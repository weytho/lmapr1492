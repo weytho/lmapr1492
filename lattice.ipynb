{
 "cells": [
  {
   "cell_type": "code",
   "execution_count": 2,
   "metadata": {},
   "outputs": [
    {
     "name": "stdout",
     "output_type": "stream",
     "text": [
      "RESEAU DIRECT :\n",
      "\n",
      "Full Formula (W1 S2)\n",
      "Reduced Formula: WS2\n",
      "abc   :   7.355479   7.355479   7.355479\n",
      "angles:  25.056074  25.056074  25.056074\n",
      "Sites (3)\n",
      "  #  SP           a         b         c    magmom\n",
      "---  ----  --------  --------  --------  --------\n",
      "  0  S     0.407603  0.407603  0.407603    -0.006\n",
      "  1  S     0.26043   0.26043   0.26043      0.003\n",
      "  2  W     0.000667  0.000667  0.000667     0.002 \n",
      "\n",
      "RESEAU RECIPROQUE :\n",
      "\n",
      "2.017021 -1.089673 0.000000\n",
      "0.000000 2.292544 0.000000\n",
      "-1.827206 -1.089673 0.854218 \n",
      "\n",
      "TYPE DE MAILLE :\n",
      "\n",
      "rhombohedral \n",
      "\n",
      "SYSTEME CRISTALLIN :\n",
      "\n",
      "trigonal \n",
      "\n",
      "GROUPE PONCTUEL :\n",
      "\n",
      "3m \n",
      "\n"
     ]
    }
   ],
   "source": [
    "from pymatgen.ext.matproj import MPRester\n",
    "from pymatgen.io.cif import CifWriter\n",
    "from pymatgen.core.lattice import Lattice\n",
    "from pymatgen.symmetry.analyzer import SpacegroupAnalyzer\n",
    "\n",
    "with MPRester(\"vKG3XPbn7JethOZI\") as m:\n",
    "\n",
    "    # Structure for material id\n",
    "    structure_mol = m.get_structure_by_material_id(\"mp-9813\")\n",
    "    w = CifWriter(structure_mol)\n",
    "    data = m.query(\"mp-9813\", [\"spacegroup.point_group\"])\n",
    "    st1 = SpacegroupAnalyzer(structure_mol)\n",
    "    st2 = st1.get_lattice_type()\n",
    "    st3 = st1.get_crystal_system()\n",
    "    st4 = st1.get_point_group_symbol()\n",
    "    \n",
    "    rombo = Lattice.rhombohedral(7.355479, 25.056074)\n",
    "    \n",
    "    reciplattice = rombo.reciprocal_lattice\n",
    "\n",
    "    w.write_file('structure_mol.cif')\n",
    "    \n",
    "    #print(st1)\n",
    "    print('RESEAU DIRECT :\\n')\n",
    "    print(structure_mol, '\\n')\n",
    "    print('RESEAU RECIPROQUE :\\n')\n",
    "    print(reciplattice, '\\n')\n",
    "    print('TYPE DE MAILLE :\\n')\n",
    "    print(st2, '\\n')\n",
    "    print('SYSTEME CRISTALLIN :\\n')\n",
    "    print(st3, '\\n')\n",
    "    print('GROUPE PONCTUEL :\\n')\n",
    "    print(st4, '\\n')\n",
    "    \n",
    "    #print(data)"
   ]
  },
  {
   "cell_type": "code",
   "execution_count": null,
   "metadata": {},
   "outputs": [],
   "source": []
  },
  {
   "cell_type": "code",
   "execution_count": null,
   "metadata": {},
   "outputs": [],
   "source": []
  }
 ],
 "metadata": {
  "kernelspec": {
   "display_name": "Python 3",
   "language": "python",
   "name": "python3"
  },
  "language_info": {
   "codemirror_mode": {
    "name": "ipython",
    "version": 3
   },
   "file_extension": ".py",
   "mimetype": "text/x-python",
   "name": "python",
   "nbconvert_exporter": "python",
   "pygments_lexer": "ipython3",
   "version": "3.6.8"
  }
 },
 "nbformat": 4,
 "nbformat_minor": 2
}
