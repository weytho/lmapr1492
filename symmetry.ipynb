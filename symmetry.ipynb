{
 "cells": [
  {
   "cell_type": "code",
   "execution_count": 1,
   "metadata": {},
   "outputs": [
    {
     "name": "stdout",
     "output_type": "stream",
     "text": [
      "From this position :\n",
      " [1.   0.   0.41] \n",
      "a C3 axis symmetry operation\n",
      " [[ 0. -1.  0.]\n",
      " [ 1. -1.  0.]\n",
      " [ 0.  0.  1.]] \n",
      "is applied, the resulting position is :\n",
      " [0.   1.   0.41] \n",
      " \n",
      " \n",
      "\n",
      "From this position :\n",
      " [1.   1.   0.26] \n",
      "a mirror plane symmetry operation\n",
      " [[ 0. -1.  0.]\n",
      " [-1.  0.  0.]\n",
      " [ 0.  0.  1.]] \n",
      "is applied, the resulting position is :\n",
      " [-1.   -1.    0.26] \n",
      " \n",
      " \n",
      "\n",
      "From this position :\n",
      " [0.33 0.67 0.67] \n",
      "a g-glide plane symmetry operation\n",
      " [[-1.  1.  0.]\n",
      " [ 0.  1.  0.]\n",
      " [ 0.  0.  1.]] \n",
      "is applied, the resulting position is :\n",
      " [0.67333333 0.33666667 0.33666667] \n",
      " \n",
      " \n",
      "\n",
      "The illustration of the symmetry operations are in the same order than their computations\n"
     ]
    }
   ],
   "source": [
    "from pymatgen.ext.matproj import MPRester\n",
    "from pymatgen.io.cif import CifWriter\n",
    "from pymatgen.core.lattice import Lattice\n",
    "from pymatgen.symmetry.analyzer import SpacegroupAnalyzer\n",
    "from pymatgen.core.operations import SymmOp\n",
    "import numpy as np\n",
    "\n",
    "with MPRester(\"vKG3XPbn7JethOZI\") as m:\n",
    "\n",
    "    # Structure for material id\n",
    "    structure_mol = m.get_structure_by_material_id(\"mp-9813\")\n",
    "    w = CifWriter(structure_mol)\n",
    "    w.write_file('structure_mol.cif')\n",
    "    #print(structure_mol, '\\n')\n",
    "    \n",
    "    #Create SymOp regarding Jmol Crystal Symmetry Explorer\n",
    "    #Mirror plan\n",
    "    sym_c3_axis = SymmOp.from_xyz_string('-y,x-y,z')\n",
    "    sym_mirror_plane = SymmOp.from_xyz_string('-y,-x,z')\n",
    "    sym_gglide_plane = SymmOp.from_xyz_string('-x+y+1/3,y-1/3,z-1/3')\n",
    "    \n",
    "    #Points\n",
    "    S_atom1 = np.array([1.0,0.0,0.41])\n",
    "    S_atom2 = np.array([1.0,1.0,0.26])\n",
    "    W_atom = np.array([0.33,0.67,0.67])\n",
    "    \n",
    "    #Apply operations\n",
    "    result1 = sym_c3_axis.operate(S_atom1)\n",
    "    result2 = sym_mirror_plane.operate(S_atom2)\n",
    "    result3 = sym_gglide_plane.operate(W_atom)\n",
    "    \n",
    "    #SHOW resulting positions\n",
    "    print('From this position :\\n', S_atom1,'\\na C3 axis symmetry operation\\n', sym_c3_axis.rotation_matrix,'\\nis applied, the resulting position is :\\n', result1, '\\n \\n \\n')\n",
    "    print('From this position :\\n', S_atom2,'\\na mirror plane symmetry operation\\n', sym_mirror_plane.rotation_matrix,'\\nis applied, the resulting position is :\\n', result2, '\\n \\n \\n')\n",
    "    print('From this position :\\n', W_atom,'\\na g-glide plane symmetry operation\\n', sym_gglide_plane.rotation_matrix,'\\nis applied, the resulting position is :\\n', result3, '\\n \\n \\n')\n",
    "    print('The illustration of the symmetry operations are in the same order than their computations')\n",
    "    "
   ]
  },
  {
   "cell_type": "markdown",
   "metadata": {},
   "source": [
    "![sym1.PNG](sym1.PNG)"
   ]
  },
  {
   "cell_type": "markdown",
   "metadata": {},
   "source": [
    "![sym2.PNG](sym2.PNG)\n",
    "![sym3.PNG](sym3.PNG)"
   ]
  }
 ],
 "metadata": {
  "kernelspec": {
   "display_name": "Python 3",
   "language": "python",
   "name": "python3"
  },
  "language_info": {
   "codemirror_mode": {
    "name": "ipython",
    "version": 3
   },
   "file_extension": ".py",
   "mimetype": "text/x-python",
   "name": "python",
   "nbconvert_exporter": "python",
   "pygments_lexer": "ipython3",
   "version": "3.6.8"
  }
 },
 "nbformat": 4,
 "nbformat_minor": 2
}
